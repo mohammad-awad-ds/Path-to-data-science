{
  "cells": [
    {
      "attachments": {},
      "cell_type": "markdown",
      "metadata": {
        "id": "X51_zu6fUtfO"
      },
      "source": [
        "### **MSc Selected Topics in Data Science (Machine Learning) Final Project**\n",
        "\n",
        "### **Student Name: Mohammad Awad**"
      ]
    },
    {
      "attachments": {},
      "cell_type": "markdown",
      "metadata": {
        "id": "aWD1hsiK5PI-"
      },
      "source": [
        "### Given a set of Images that describe the stage of dementia in Alzheimer patients. Each folder has a name that represents the label of the images inside it. according to the class label of dementia: Very Mild, Mild, moderate, None demented."
      ]
    },
    {
      "attachments": {},
      "cell_type": "markdown",
      "metadata": {
        "id": "MAigfuj3SxPs"
      },
      "source": [
        "#### **1) Develop appropriate Artificial Neural Network model to predict the status of patient?**"
      ]
    },
    {
      "cell_type": "code",
      "execution_count": null,
      "metadata": {
        "id": "zpbOWzTjNrCR"
      },
      "outputs": [],
      "source": [
        "import matplotlib.pyplot as plt\n",
        "import seaborn as sns\n",
        "\n",
        "import keras\n",
        "from keras.models import Sequential\n",
        "from keras.layers import Dense, Conv2D , MaxPool2D , Flatten , Dropout \n",
        "from keras.preprocessing.image import ImageDataGenerator\n",
        "from keras.optimizers import Adam\n",
        "\n",
        "from sklearn.metrics import classification_report,confusion_matrix\n",
        "\n",
        "import tensorflow as tf\n",
        "\n",
        "import cv2\n",
        "import os\n",
        "\n",
        "import numpy as np\n"
      ]
    },
    {
      "cell_type": "code",
      "execution_count": null,
      "metadata": {
        "id": "B8PSUEVIHr50"
      },
      "outputs": [],
      "source": [
        "!unzip -q './Dementia_dataset.zip' -d './'"
      ]
    },
    {
      "cell_type": "code",
      "execution_count": null,
      "metadata": {
        "colab": {
          "base_uri": "https://localhost:8080/"
        },
        "id": "ozmh-4QEODXF",
        "outputId": "c367721a-c076-4072-ed78-1c74a185e6bb"
      },
      "outputs": [
        {
          "name": "stdout",
          "output_type": "stream",
          "text": [
            "Found 6400 images belonging to 4 classes.\n"
          ]
        }
      ],
      "source": [
        "#data \n",
        "from tensorflow.keras.preprocessing.image import ImageDataGenerator \n",
        "data_dir = \"/content/Dataset/\"\n",
        "\n",
        "# All images will be rescaled by 1./255.\n",
        "gen = ImageDataGenerator( rescale = 1.0/128. )\n",
        "datagen=gen.flow_from_directory(data_dir,class_mode='categorical',target_size=(128,128))\n"
      ]
    },
    {
      "cell_type": "code",
      "execution_count": null,
      "metadata": {
        "colab": {
          "base_uri": "https://localhost:8080/"
        },
        "id": "m1I_I-E7Sleb",
        "outputId": "e9fb14e0-2082-452c-ad83-eb68c44a715f"
      },
      "outputs": [
        {
          "name": "stdout",
          "output_type": "stream",
          "text": [
            "Looking in indexes: https://pypi.org/simple, https://us-python.pkg.dev/colab-wheels/public/simple/\n",
            "Collecting split-folders\n",
            "  Downloading split_folders-0.5.1-py3-none-any.whl (8.4 kB)\n",
            "Installing collected packages: split-folders\n",
            "Successfully installed split-folders-0.5.1\n"
          ]
        },
        {
          "name": "stderr",
          "output_type": "stream",
          "text": [
            "Copying files: 6400 files [00:01, 6145.54 files/s]\n"
          ]
        }
      ],
      "source": [
        "!pip install split-folders\n",
        "import splitfolders\n",
        "\n",
        "splitfolders.ratio(data_dir, output=\"Q2Data\", seed=711, ratio=(.8, .2))\n"
      ]
    },
    {
      "cell_type": "code",
      "execution_count": null,
      "metadata": {
        "colab": {
          "base_uri": "https://localhost:8080/",
          "height": 122
        },
        "id": "UQd7P-w7W8Ud",
        "outputId": "d006ac2d-83a2-418a-81eb-18a5931a7756"
      },
      "outputs": [
        {
          "data": {
            "application/vnd.google.colaboratory.intrinsic+json": {
              "type": "string"
            },
            "text/plain": [
              "\"from tensorflow.keras.preprocessing.image import ImageDataGenerator \\nbs=30         #Setting batch size\\n# All images will be rescaled by 1./255.\\ntrain_datagen = ImageDataGenerator()\\ntest_datagen  = ImageDataGenerator()\\n\\ntrain_generator=train_datagen.flow_from_directory(train_dir,batch_size=bs,class_mode='categorical',target_size=(180,180))\\nvalidation_generator =  test_datagen.flow_from_directory(validation_dir,\\n                                                         batch_size=bs,\\n                                                         class_mode  = 'categorical',\\n                                                         target_size=(128,128))\""
            ]
          },
          "execution_count": 5,
          "metadata": {},
          "output_type": "execute_result"
        }
      ],
      "source": [
        "train_dir = \"/content/Q2Data/train\"   #Setting training directory\n",
        "validation_dir = \"/content/Q2Data/val\"   #Setting testing directory\n",
        "\n",
        "'''from tensorflow.keras.preprocessing.image import ImageDataGenerator \n",
        "bs=30         #Setting batch size\n",
        "# All images will be rescaled by 1./255.\n",
        "train_datagen = ImageDataGenerator()\n",
        "test_datagen  = ImageDataGenerator()\n",
        "\n",
        "train_generator=train_datagen.flow_from_directory(train_dir,batch_size=bs,class_mode='categorical',target_size=(180,180))\n",
        "validation_generator =  test_datagen.flow_from_directory(validation_dir,\n",
        "                                                         batch_size=bs,\n",
        "                                                         class_mode  = 'categorical',\n",
        "                                                         target_size=(128,128))'''\n"
      ]
    },
    {
      "cell_type": "code",
      "execution_count": null,
      "metadata": {
        "colab": {
          "base_uri": "https://localhost:8080/"
        },
        "id": "5jzxcI_EJ4_O",
        "outputId": "aabdcd58-837f-45af-8748-7f5523c99f9d"
      },
      "outputs": [
        {
          "name": "stdout",
          "output_type": "stream",
          "text": [
            "Mild_Demented  Moderate_Demented  Non_Demented\tVery_Mild_Demented\n"
          ]
        }
      ],
      "source": [
        "!ls ./Dataset\n"
      ]
    },
    {
      "cell_type": "code",
      "execution_count": null,
      "metadata": {
        "id": "SPKbgF9iIq0G"
      },
      "outputs": [],
      "source": [
        "#read\n",
        "t='Mild_Demented  Moderate_Demented  Non_Demented\tVery_Mild_Demented'\n",
        "labels =t.split()\n",
        "img_size = 128\n",
        "def get_data(data_dir):\n",
        "    data = [] \n",
        "    for label in labels: \n",
        "        path = os.path.join(data_dir, label)\n",
        "        class_num = labels.index(label)\n",
        "        for img in os.listdir(path):\n",
        "            try:\n",
        "                img_arr = cv2.imread(os.path.join(path, img))[...,::-1] #convert BGR to RGB format\n",
        "                resized_arr = cv2.resize(img_arr, (img_size, img_size)) # Reshaping images to preferred size\n",
        "                data.append([resized_arr, class_num])\n",
        "            except Exception as e:\n",
        "                print(e)\n",
        "    return np.array(data)"
      ]
    },
    {
      "cell_type": "code",
      "execution_count": null,
      "metadata": {
        "colab": {
          "base_uri": "https://localhost:8080/"
        },
        "id": "3jMV3DxMPFXs",
        "outputId": "ea9f6a0a-6239-4247-f890-632d28d22e17"
      },
      "outputs": [
        {
          "name": "stderr",
          "output_type": "stream",
          "text": [
            "<ipython-input-7-66382b4ee6a0>:17: VisibleDeprecationWarning: Creating an ndarray from ragged nested sequences (which is a list-or-tuple of lists-or-tuples-or ndarrays with different lengths or shapes) is deprecated. If you meant to do this, you must specify 'dtype=object' when creating the ndarray.\n",
            "  return np.array(data)\n"
          ]
        }
      ],
      "source": [
        "train = get_data(train_dir)\n",
        "val = get_data(validation_dir)\n"
      ]
    },
    {
      "cell_type": "code",
      "execution_count": null,
      "metadata": {
        "id": "rQzA76gaP9NN"
      },
      "outputs": [],
      "source": [
        "x_train = []\n",
        "y_train = []\n",
        "x_val = []\n",
        "y_val = []\n",
        "\n",
        "for feature, label in train:\n",
        "  x_train.append(feature)\n",
        "  y_train.append(label)\n",
        "\n",
        "for feature, label in val:\n",
        "  x_val.append(feature)\n",
        "  y_val.append(label)\n",
        "\n",
        "# Normalize the data'''\n",
        "x_train = np.array(x_train) / 255\n",
        "x_val = np.array(x_val) / 255\n",
        "\n",
        "x_train.reshape(-1, img_size, img_size, 1)\n",
        "y_train = np.array(y_train)\n",
        "\n",
        "x_val.reshape(-1, img_size, img_size, 1)\n",
        "y_val = np.array(y_val)"
      ]
    },
    {
      "cell_type": "code",
      "execution_count": null,
      "metadata": {
        "id": "MJ2j8egMQFp2"
      },
      "outputs": [],
      "source": [
        "datagen = ImageDataGenerator(\n",
        "        featurewise_center=False,  # set input mean to 0 over the dataset\n",
        "        samplewise_center=False,  # set each sample mean to 0\n",
        "        featurewise_std_normalization=False,  # divide inputs by std of the dataset\n",
        "        samplewise_std_normalization=False,  # divide each input by its std\n",
        "        zca_whitening=False,  # apply ZCA whitening\n",
        "        rotation_range = 30,  # randomly rotate images in the range (degrees, 0 to 180)\n",
        "        zoom_range = 0.2, # Randomly zoom image \n",
        "        width_shift_range=0.1,  # randomly shift images horizontally (fraction of total width)\n",
        "        height_shift_range=0.1,  # randomly shift images vertically (fraction of total height)\n",
        "        horizontal_flip = True,  # randomly flip images\n",
        "        vertical_flip=False)  # randomly flip images\n",
        "\n",
        "\n",
        "datagen.fit(x_train)\n"
      ]
    },
    {
      "cell_type": "code",
      "execution_count": null,
      "metadata": {
        "colab": {
          "base_uri": "https://localhost:8080/"
        },
        "id": "lq_gajFAd7tQ",
        "outputId": "19b46a1d-62af-4fa0-b090-8a9645b562b8"
      },
      "outputs": [
        {
          "name": "stdout",
          "output_type": "stream",
          "text": [
            "Epoch 1/5\n",
            "160/160 [==============================] - 112s 686ms/step - loss: 1.1979 - accuracy: 0.4763\n",
            "Epoch 2/5\n",
            "160/160 [==============================] - 96s 599ms/step - loss: 0.9760 - accuracy: 0.5146\n",
            "Epoch 3/5\n",
            "160/160 [==============================] - 95s 595ms/step - loss: 0.9528 - accuracy: 0.5329\n",
            "Epoch 4/5\n",
            "160/160 [==============================] - 96s 600ms/step - loss: 0.9085 - accuracy: 0.5642\n",
            "Epoch 5/5\n",
            "160/160 [==============================] - 127s 792ms/step - loss: 0.8853 - accuracy: 0.5780\n"
          ]
        },
        {
          "data": {
            "text/plain": [
              "<keras.callbacks.History at 0x7fa996259e80>"
            ]
          },
          "execution_count": 11,
          "metadata": {},
          "output_type": "execute_result"
        }
      ],
      "source": [
        "ann = Sequential([\n",
        "        Flatten(input_shape=(128,128,3)),\n",
        "        Dense(3000, activation='relu'),\n",
        "        Dense(1000, activation='relu'),\n",
        "        Dense(10, activation='softmax')    \n",
        "    ])\n",
        "\n",
        "ann.compile(optimizer='SGD',\n",
        "              loss='sparse_categorical_crossentropy',\n",
        "              metrics=['accuracy'])\n",
        "\n",
        "ann.fit(x_train, y_train, epochs=5)"
      ]
    },
    {
      "cell_type": "code",
      "execution_count": null,
      "metadata": {
        "colab": {
          "base_uri": "https://localhost:8080/"
        },
        "id": "BExY1rbpZ2Uu",
        "outputId": "1eda1346-1d72-43c3-f932-3e32042963ac"
      },
      "outputs": [
        {
          "name": "stdout",
          "output_type": "stream",
          "text": [
            "41/41 [==============================] - 12s 298ms/step\n",
            "Classification Report: \n",
            "               precision    recall  f1-score   support\n",
            "\n",
            "           0       1.00      0.02      0.03       180\n",
            "           1       0.00      0.00      0.00        13\n",
            "           2       0.69      0.78      0.74       640\n",
            "           3       0.48      0.60      0.53       448\n",
            "\n",
            "    accuracy                           0.60      1281\n",
            "   macro avg       0.54      0.35      0.33      1281\n",
            "weighted avg       0.66      0.60      0.56      1281\n",
            "\n"
          ]
        },
        {
          "name": "stderr",
          "output_type": "stream",
          "text": [
            "/usr/local/lib/python3.8/dist-packages/sklearn/metrics/_classification.py:1318: UndefinedMetricWarning: Precision and F-score are ill-defined and being set to 0.0 in labels with no predicted samples. Use `zero_division` parameter to control this behavior.\n",
            "  _warn_prf(average, modifier, msg_start, len(result))\n",
            "/usr/local/lib/python3.8/dist-packages/sklearn/metrics/_classification.py:1318: UndefinedMetricWarning: Precision and F-score are ill-defined and being set to 0.0 in labels with no predicted samples. Use `zero_division` parameter to control this behavior.\n",
            "  _warn_prf(average, modifier, msg_start, len(result))\n",
            "/usr/local/lib/python3.8/dist-packages/sklearn/metrics/_classification.py:1318: UndefinedMetricWarning: Precision and F-score are ill-defined and being set to 0.0 in labels with no predicted samples. Use `zero_division` parameter to control this behavior.\n",
            "  _warn_prf(average, modifier, msg_start, len(result))\n"
          ]
        }
      ],
      "source": [
        "from sklearn.metrics import confusion_matrix , classification_report\n",
        "import numpy as np\n",
        "y_pred = ann.predict(x_val)\n",
        "y_pred_classes = [np.argmax(element) for element in y_pred]\n",
        "\n",
        "print(\"Classification Report: \\n\", classification_report(y_val, y_pred_classes))"
      ]
    },
    {
      "cell_type": "code",
      "execution_count": null,
      "metadata": {
        "colab": {
          "base_uri": "https://localhost:8080/"
        },
        "id": "vMv4eSY-9jzB",
        "outputId": "2f95a468-b3e4-4034-9db4-ba7aa78e1537"
      },
      "outputs": [
        {
          "data": {
            "text/plain": [
              "['Mild_Demented', 'Moderate_Demented', 'Non_Demented', 'Very_Mild_Demented']"
            ]
          },
          "execution_count": 32,
          "metadata": {},
          "output_type": "execute_result"
        }
      ],
      "source": [
        "labels"
      ]
    },
    {
      "cell_type": "code",
      "execution_count": null,
      "metadata": {
        "colab": {
          "base_uri": "https://localhost:8080/"
        },
        "id": "seNC9yaR_L2K",
        "outputId": "58953b2f-ebdd-4664-eb1c-edf481f7811b"
      },
      "outputs": [
        {
          "name": "stdout",
          "output_type": "stream",
          "text": [
            "Epoch 1/4\n",
            "256/256 [==============================] - 148s 577ms/step - loss: 0.8830 - accuracy: 0.5771 - val_loss: 0.8763 - val_accuracy: 0.5605\n",
            "Epoch 2/4\n",
            "256/256 [==============================] - 138s 539ms/step - loss: 0.8582 - accuracy: 0.5972 - val_loss: 0.8053 - val_accuracy: 0.6721\n",
            "Epoch 3/4\n",
            "256/256 [==============================] - 153s 596ms/step - loss: 0.8121 - accuracy: 0.6132 - val_loss: 0.8266 - val_accuracy: 0.5800\n",
            "Epoch 4/4\n",
            "256/256 [==============================] - 147s 576ms/step - loss: 0.7768 - accuracy: 0.6365 - val_loss: 0.7314 - val_accuracy: 0.6518\n"
          ]
        }
      ],
      "source": [
        "history = ann.fit(x_train, y_train,\n",
        "                    validation_data=(x_val, y_val),\n",
        "                    epochs=4,\n",
        "                    batch_size=20)"
      ]
    },
    {
      "cell_type": "code",
      "execution_count": null,
      "metadata": {
        "colab": {
          "base_uri": "https://localhost:8080/",
          "height": 428
        },
        "id": "C-tyc1cM-QNh",
        "outputId": "f8b6ab8b-58cb-4a71-c98a-59464f897d7f"
      },
      "outputs": [
        {
          "data": {
            "text/plain": [
              "<matplotlib.legend.Legend at 0x7fa991dbd310>"
            ]
          },
          "execution_count": 45,
          "metadata": {},
          "output_type": "execute_result"
        },
        {
          "data": {
            "image/png": "[encoded data removed]",
            "text/plain": [
              "<Figure size 1008x432 with 2 Axes>"
            ]
          },
          "metadata": {
            "needs_background": "light"
          },
          "output_type": "display_data"
        }
      ],
      "source": [
        "import matplotlib.pyplot as plt\n",
        " \n",
        "history_dict = history.history\n",
        "loss_values = history_dict['loss']\n",
        "val_loss_values = history_dict['val_loss']\n",
        "accuracy = history_dict['accuracy']\n",
        "val_accuracy = history_dict['val_accuracy']\n",
        " \n",
        "epochs = range(1, len(loss_values) + 1)\n",
        "fig, ax = plt.subplots(1, 2, figsize=(14, 6))\n",
        "#\n",
        "# Plot the model accuracy vs Epochs\n",
        "#\n",
        "ax[0].plot(epochs, accuracy, 'bo', label='Training accuracy')\n",
        "ax[0].plot(epochs, val_accuracy, 'b', label='Validation accuracy')\n",
        "ax[0].set_title('Training & Validation Accuracy', fontsize=16)\n",
        "ax[0].set_xlabel('Epochs', fontsize=16)\n",
        "ax[0].set_ylabel('Accuracy', fontsize=16)\n",
        "ax[0].legend()\n",
        "#\n",
        "# Plot the loss vs Epochs\n",
        "#\n",
        "ax[1].plot(epochs, loss_values, 'bo', label='Training loss')\n",
        "ax[1].plot(epochs, val_loss_values, 'b', label='Validation loss')\n",
        "ax[1].set_title('Training & Validation Loss', fontsize=16)\n",
        "ax[1].set_xlabel('Epochs', fontsize=16)\n",
        "ax[1].set_ylabel('Loss', fontsize=16)\n",
        "ax[1].legend()"
      ]
    },
    {
      "attachments": {},
      "cell_type": "markdown",
      "metadata": {
        "id": "OdlVvaLbFMAB"
      },
      "source": [
        "#### **2) Develop appropriate Deep Learning model using TensorFlow to predict the status of patient? Describe what type of deep learning did you use and Show the loss and accuracy curves?** "
      ]
    },
    {
      "attachments": {},
      "cell_type": "markdown",
      "metadata": {
        "id": "7qgzDHZw5uNY"
      },
      "source": [
        "Convoluted Neural Networks (CNN) were used for the deep learning task."
      ]
    },
    {
      "cell_type": "code",
      "execution_count": null,
      "metadata": {
        "id": "XYYaj_YHk1CJ"
      },
      "outputs": [],
      "source": [
        "from tensorflow.keras.layers import MaxPooling2D\n",
        "cnn = Sequential([\n",
        "    Conv2D(filters=32, kernel_size=(3, 3), activation='relu', input_shape=(128, 128, 3)),\n",
        "    MaxPooling2D((2, 2)),\n",
        "    \n",
        "    Conv2D(filters=64, kernel_size=(3, 3), activation='relu'),\n",
        "    MaxPooling2D((2, 2)),\n",
        "    Flatten(),\n",
        "    Dense(64, activation='relu'),\n",
        "    Dense(10, activation='softmax')\n",
        "])"
      ]
    },
    {
      "cell_type": "code",
      "execution_count": null,
      "metadata": {
        "id": "21_xR23rk2Ex"
      },
      "outputs": [],
      "source": [
        "cnn.compile(optimizer='adam',\n",
        "              loss='sparse_categorical_crossentropy',\n",
        "              metrics=['accuracy'])"
      ]
    },
    {
      "cell_type": "code",
      "execution_count": null,
      "metadata": {
        "id": "oqgfpEvFoZVx"
      },
      "outputs": [],
      "source": [
        "#The below results are very good"
      ]
    },
    {
      "cell_type": "code",
      "execution_count": null,
      "metadata": {
        "colab": {
          "base_uri": "https://localhost:8080/"
        },
        "id": "U_Dng2IwlXja",
        "outputId": "33b4e2d0-4eea-41b4-fc75-7ae997572ee1"
      },
      "outputs": [
        {
          "name": "stdout",
          "output_type": "stream",
          "text": [
            "Epoch 1/5\n",
            "160/160 [==============================] - 115s 714ms/step - loss: 0.9746 - accuracy: 0.5509\n",
            "Epoch 2/5\n",
            "160/160 [==============================] - 114s 712ms/step - loss: 0.5541 - accuracy: 0.7718\n",
            "Epoch 3/5\n",
            "160/160 [==============================] - 113s 705ms/step - loss: 0.2416 - accuracy: 0.9156\n",
            "Epoch 4/5\n",
            "160/160 [==============================] - 121s 755ms/step - loss: 0.0941 - accuracy: 0.9744\n",
            "Epoch 5/5\n",
            "160/160 [==============================] - 121s 756ms/step - loss: 0.0344 - accuracy: 0.9920\n"
          ]
        },
        {
          "data": {
            "text/plain": [
              "<keras.callbacks.History at 0x7fa98ed5aa60>"
            ]
          },
          "execution_count": 16,
          "metadata": {},
          "output_type": "execute_result"
        }
      ],
      "source": [
        "cnn.fit(x_train, y_train, epochs=5)"
      ]
    },
    {
      "cell_type": "code",
      "execution_count": null,
      "metadata": {
        "colab": {
          "base_uri": "https://localhost:8080/"
        },
        "id": "UQ1zet_kmdKy",
        "outputId": "906a4682-d699-41ae-8f7f-5eb7a98f11ff"
      },
      "outputs": [
        {
          "name": "stdout",
          "output_type": "stream",
          "text": [
            "41/41 [==============================] - 8s 192ms/step - loss: 0.0819 - accuracy: 0.9750\n"
          ]
        },
        {
          "data": {
            "text/plain": [
              "[0.08185982704162598, 0.9750195145606995]"
            ]
          },
          "execution_count": 17,
          "metadata": {},
          "output_type": "execute_result"
        }
      ],
      "source": [
        "cnn.evaluate(x_val,y_val)"
      ]
    },
    {
      "cell_type": "code",
      "execution_count": null,
      "metadata": {
        "colab": {
          "base_uri": "https://localhost:8080/"
        },
        "id": "sXw55m5w8bax",
        "outputId": "fe142b2b-1f62-41b4-d064-f5177e2f2c10"
      },
      "outputs": [
        {
          "name": "stdout",
          "output_type": "stream",
          "text": [
            "41/41 [==============================] - 8s 193ms/step\n",
            "Classification Report: \n",
            "               precision    recall  f1-score   support\n",
            "\n",
            "           0       0.99      0.99      0.99       180\n",
            "           1       1.00      1.00      1.00        13\n",
            "           2       0.95      1.00      0.98       640\n",
            "           3       1.00      0.93      0.96       448\n",
            "\n",
            "    accuracy                           0.98      1281\n",
            "   macro avg       0.99      0.98      0.98      1281\n",
            "weighted avg       0.98      0.98      0.97      1281\n",
            "\n"
          ]
        }
      ],
      "source": [
        "y_pred = cnn.predict(x_val)\n",
        "y_pred_classes = [np.argmax(element) for element in y_pred]\n",
        "\n",
        "print(\"Classification Report: \\n\", classification_report(y_val, y_pred_classes))"
      ]
    },
    {
      "cell_type": "code",
      "execution_count": null,
      "metadata": {
        "colab": {
          "base_uri": "https://localhost:8080/"
        },
        "id": "iAeeFZ-f9eiJ",
        "outputId": "2f95a468-b3e4-4034-9db4-ba7aa78e1537"
      },
      "outputs": [
        {
          "data": {
            "text/plain": [
              "['Mild_Demented', 'Moderate_Demented', 'Non_Demented', 'Very_Mild_Demented']"
            ]
          },
          "execution_count": 32,
          "metadata": {},
          "output_type": "execute_result"
        }
      ],
      "source": [
        "labels"
      ]
    },
    {
      "cell_type": "code",
      "execution_count": null,
      "metadata": {
        "colab": {
          "base_uri": "https://localhost:8080/"
        },
        "id": "hJJpIhwSmlGE",
        "outputId": "68d1adb1-2195-4658-e9ac-6d26e0c8efc0"
      },
      "outputs": [
        {
          "name": "stdout",
          "output_type": "stream",
          "text": [
            "41/41 [==============================] - 8s 192ms/step\n"
          ]
        },
        {
          "data": {
            "text/plain": [
              "array([[9.99233961e-01, 2.86617574e-08, 1.48859282e-04, 6.17155863e-04,\n",
              "        2.93001567e-17, 2.77630826e-12, 1.26149102e-19, 6.03379177e-14,\n",
              "        3.25710871e-15, 1.87758558e-14],\n",
              "       [9.93496418e-01, 7.89671049e-08, 6.41207304e-03, 9.14939228e-05,\n",
              "        1.29425487e-18, 7.16709840e-13, 2.13898971e-20, 6.40643137e-14,\n",
              "        7.61371182e-16, 9.86946866e-15],\n",
              "       [9.92951870e-01, 1.25209951e-07, 5.83898276e-03, 1.20902678e-03,\n",
              "        3.06982025e-16, 2.26808836e-10, 4.30223585e-18, 1.86740662e-12,\n",
              "        1.34628094e-14, 5.85770419e-13],\n",
              "       [9.95372951e-01, 3.63217737e-07, 4.56810556e-03, 5.85918424e-05,\n",
              "        9.68701355e-17, 6.02722169e-12, 1.99610862e-18, 1.05689416e-12,\n",
              "        5.86526482e-15, 5.79213056e-13],\n",
              "       [9.98987436e-01, 4.88047817e-07, 1.47271479e-04, 8.64729169e-04,\n",
              "        1.32639807e-18, 4.87175144e-12, 2.76959908e-20, 1.57265336e-15,\n",
              "        9.56437509e-18, 6.26788753e-15]], dtype=float32)"
            ]
          },
          "execution_count": 18,
          "metadata": {},
          "output_type": "execute_result"
        }
      ],
      "source": [
        "y_pred = cnn.predict(x_val)\n",
        "y_pred[:5]"
      ]
    },
    {
      "cell_type": "code",
      "execution_count": null,
      "metadata": {
        "colab": {
          "base_uri": "https://localhost:8080/"
        },
        "id": "G6KcqwRzA8Hq",
        "outputId": "9114ff03-98bd-4cd9-8266-43bc8a605b55"
      },
      "outputs": [
        {
          "name": "stdout",
          "output_type": "stream",
          "text": [
            "Epoch 1/4\n",
            "171/171 [==============================] - 134s 777ms/step - loss: 0.9440 - accuracy: 0.5667 - val_loss: 0.7655 - val_accuracy: 0.6729\n",
            "Epoch 2/4\n",
            "171/171 [==============================] - 122s 712ms/step - loss: 0.5426 - accuracy: 0.7826 - val_loss: 0.4056 - val_accuracy: 0.8345\n",
            "Epoch 3/4\n",
            "171/171 [==============================] - 121s 706ms/step - loss: 0.2250 - accuracy: 0.9172 - val_loss: 0.2395 - val_accuracy: 0.9118\n",
            "Epoch 4/4\n",
            "171/171 [==============================] - 120s 705ms/step - loss: 0.0943 - accuracy: 0.9740 - val_loss: 0.1032 - val_accuracy: 0.9703\n"
          ]
        }
      ],
      "source": [
        "history = cnn.fit(x_train, y_train,\n",
        "                    validation_data=(x_val, y_val),\n",
        "                    epochs=4,\n",
        "                    batch_size=30)"
      ]
    },
    {
      "cell_type": "code",
      "execution_count": null,
      "metadata": {
        "colab": {
          "base_uri": "https://localhost:8080/",
          "height": 428
        },
        "id": "xQlJHvuRBDdC",
        "outputId": "029caebf-4714-4b2d-89dd-599047f921ce"
      },
      "outputs": [
        {
          "data": {
            "text/plain": [
              "<matplotlib.legend.Legend at 0x7fa98f570a60>"
            ]
          },
          "execution_count": 59,
          "metadata": {},
          "output_type": "execute_result"
        },
        {
          "data": {
            "image/png": "[encoded data removed]",
            "text/plain": [
              "<Figure size 1008x432 with 2 Axes>"
            ]
          },
          "metadata": {
            "needs_background": "light"
          },
          "output_type": "display_data"
        }
      ],
      "source": [
        "import matplotlib.pyplot as plt\n",
        " \n",
        "history_dict = history.history\n",
        "loss_values = history_dict['loss']\n",
        "val_loss_values = history_dict['val_loss']\n",
        "accuracy = history_dict['accuracy']\n",
        "val_accuracy = history_dict['val_accuracy']\n",
        " \n",
        "epochs = range(1, len(loss_values) + 1)\n",
        "fig, ax = plt.subplots(1, 2, figsize=(14, 6))\n",
        "#\n",
        "# Plot the model accuracy vs Epochs\n",
        "#\n",
        "ax[0].plot(epochs, accuracy, 'bo', label='Training accuracy')\n",
        "ax[0].plot(epochs, val_accuracy, 'b', label='Validation accuracy')\n",
        "ax[0].set_title('Training & Validation Accuracy', fontsize=16)\n",
        "ax[0].set_xlabel('Epochs', fontsize=16)\n",
        "ax[0].set_ylabel('Accuracy', fontsize=16)\n",
        "ax[0].legend()\n",
        "#\n",
        "# Plot the loss vs Epochs\n",
        "#\n",
        "ax[1].plot(epochs, loss_values, 'bo', label='Training loss')\n",
        "ax[1].plot(epochs, val_loss_values, 'b', label='Validation loss')\n",
        "ax[1].set_title('Training & Validation Loss', fontsize=16)\n",
        "ax[1].set_xlabel('Epochs', fontsize=16)\n",
        "ax[1].set_ylabel('Loss', fontsize=16)\n",
        "ax[1].legend()"
      ]
    },
    {
      "attachments": {},
      "cell_type": "markdown",
      "metadata": {
        "id": "83OgM26Ppfj6"
      },
      "source": [
        "Great performance achieved, could add more dropout between layers to avoid overfitting"
      ]
    },
    {
      "cell_type": "code",
      "execution_count": null,
      "metadata": {
        "colab": {
          "base_uri": "https://localhost:8080/",
          "height": 104
        },
        "id": "DtpYd5UkRH3-",
        "outputId": "a68f41d8-e671-4278-c1a4-06c8658a7dda"
      },
      "outputs": [
        {
          "data": {
            "application/vnd.google.colaboratory.intrinsic+json": {
              "type": "string"
            },
            "text/plain": [
              "'\\n\\nmodel = Sequential()\\nmodel.add(Conv2D(32,3,padding=\"same\", activation=\"relu\", input_shape=(128,128,3)))\\nmodel.add(MaxPool2D())\\n\\nmodel.add(Conv2D(32, 3, padding=\"same\", activation=\"relu\"))\\nmodel.add(MaxPool2D())\\n\\nmodel.add(Conv2D(64, 3, padding=\"same\", activation=\"relu\"))\\nmodel.add(MaxPool2D())\\nmodel.add(Dropout(0.4))\\n\\nmodel.add(Flatten())\\nmodel.add(Dense(128,activation=\"relu\"))\\nmodel.add(Dense(4, activation=\"softmax\"))\\n\\nmodel.summary()\\n'"
            ]
          },
          "execution_count": 19,
          "metadata": {},
          "output_type": "execute_result"
        }
      ],
      "source": [
        "#an aditional experiment\n",
        "'''\n",
        "\n",
        "model = Sequential()\n",
        "model.add(Conv2D(32,3,padding=\"same\", activation=\"relu\", input_shape=(128,128,3)))\n",
        "model.add(MaxPool2D())\n",
        "\n",
        "model.add(Conv2D(32, 3, padding=\"same\", activation=\"relu\"))\n",
        "model.add(MaxPool2D())\n",
        "\n",
        "model.add(Conv2D(64, 3, padding=\"same\", activation=\"relu\"))\n",
        "model.add(MaxPool2D())\n",
        "model.add(Dropout(0.4))\n",
        "\n",
        "model.add(Flatten())\n",
        "model.add(Dense(128,activation=\"relu\"))\n",
        "model.add(Dense(4, activation=\"softmax\"))\n",
        "\n",
        "model.summary()\n",
        "'''"
      ]
    },
    {
      "cell_type": "code",
      "execution_count": null,
      "metadata": {
        "colab": {
          "base_uri": "https://localhost:8080/",
          "height": 122
        },
        "id": "Fq3lQv_ZZnme",
        "outputId": "a7c65ebd-c427-43b0-a65e-6f3647095a7a"
      },
      "outputs": [
        {
          "data": {
            "application/vnd.google.colaboratory.intrinsic+json": {
              "type": "string"
            },
            "text/plain": [
              "\"\\nacc = history.history['accuracy']\\nval_acc = history.history['val_accuracy']\\nloss = history.history['loss']\\nval_loss = history.history['val_loss']\\n\\nepochs_range = range(50)\\n\\nplt.figure(figsize=(15, 15))\\nplt.subplot(2, 2, 1)\\nplt.plot(epochs_range, acc, label='Training Accuracy')\\nplt.plot(epochs_range, val_acc, label='Validation Accuracy')\\nplt.legend(loc='lower right')\\nplt.title('Training and Validation Accuracy')\\n\\nplt.subplot(2, 2, 2)\\nplt.plot(epochs_range, loss, label='Training Loss')\\nplt.plot(epochs_range, val_loss, label='Validation Loss')\\nplt.legend(loc='upper right')\\nplt.title('Training and Validation Loss')\\nplt.show()\\n\""
            ]
          },
          "execution_count": 20,
          "metadata": {},
          "output_type": "execute_result"
        }
      ],
      "source": [
        "'''\n",
        "acc = history.history['accuracy']\n",
        "val_acc = history.history['val_accuracy']\n",
        "loss = history.history['loss']\n",
        "val_loss = history.history['val_loss']\n",
        "\n",
        "epochs_range = range(50)\n",
        "\n",
        "plt.figure(figsize=(15, 15))\n",
        "plt.subplot(2, 2, 1)\n",
        "plt.plot(epochs_range, acc, label='Training Accuracy')\n",
        "plt.plot(epochs_range, val_acc, label='Validation Accuracy')\n",
        "plt.legend(loc='lower right')\n",
        "plt.title('Training and Validation Accuracy')\n",
        "\n",
        "plt.subplot(2, 2, 2)\n",
        "plt.plot(epochs_range, loss, label='Training Loss')\n",
        "plt.plot(epochs_range, val_loss, label='Validation Loss')\n",
        "plt.legend(loc='upper right')\n",
        "plt.title('Training and Validation Loss')\n",
        "plt.show()\n",
        "'''"
      ]
    },
    {
      "attachments": {},
      "cell_type": "markdown",
      "metadata": {
        "id": "VEcLHSZaFLs6"
      },
      "source": [
        "#### **3) What are the parameters that you used to configure your model; describe how did you tune your module?**"
      ]
    },
    {
      "attachments": {},
      "cell_type": "markdown",
      "metadata": {
        "id": "Ws1J6XcxMDa2"
      },
      "source": [
        "used the number of filters on the input and hidden layers, and set activation as relu, tuning could be done by changing the above parameters one by one and adding and removing layers subject to long training time and limited resources.\n",
        "\n",
        "A guide by analyticsvidhya was followed to reach the above results"
      ]
    },
    {
      "attachments": {},
      "cell_type": "markdown",
      "metadata": {
        "id": "rk7EVkAiFf4S"
      },
      "source": [
        "#### **4) Can we apply LSTM and GAN for such problems, explain your answer with evidence?**"
      ]
    },
    {
      "attachments": {},
      "cell_type": "markdown",
      "metadata": {
        "id": "18xPX7WDFkVt"
      },
      "source": [
        "Yes we can, as these models have a discriminating component.\n",
        "\n",
        " Below links are for researchers stating the fact.\n",
        "\n",
        "https://www.researchgate.net/post/Can_we_apply_LSTM_model_for_image_classification#:~:text=Yes%2C%20the%20LSTM%20model%20can%20be%20applied%20for%20image%20classification.\n",
        "\n",
        "https://www.researchgate.net/post/Can_we_use_Generative_adversarial_network_GAN_for_image_classification"
      ]
    }
  ],
  "metadata": {
    "colab": {
      "provenance": []
    },
    "kernelspec": {
      "display_name": "base",
      "language": "python",
      "name": "python3"
    },
    "language_info": {
      "codemirror_mode": {
        "name": "ipython",
        "version": 3
      },
      "file_extension": ".py",
      "mimetype": "text/x-python",
      "name": "python",
      "nbconvert_exporter": "python",
      "pygments_lexer": "ipython3",
      "version": "3.8.8"
    },
    "vscode": {
      "interpreter": {
        "hash": "88279d2366fe020547cde40dd65aa0e3aa662a6ec1f3ca12d88834876c85e1a6"
      }
    }
  },
  "nbformat": 4,
  "nbformat_minor": 0
}
